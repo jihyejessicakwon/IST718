{
 "cells": [
  {
   "cell_type": "markdown",
   "metadata": {},
   "source": [
    "# Part 1\n",
    "## Question 1: Learning by optimization"
   ]
  },
  {
   "cell_type": "markdown",
   "metadata": {},
   "source": [
    "Assume a simple model that predicts income\n",
    "$$\n",
    "\\widehat{\\text{income}} = b_0\n",
    "$$\n",
    "\n",
    "and the following loss function\n",
    "\n",
    "$$\n",
    "L(b_0) = \\sum_{i=1}^n (\\widehat{y}_i - y_i)^2 + b_0^2\n",
    "$$\n",
    "\n",
    "## 1.1 (10 pts) \n",
    "Derive the optimal value for $b_0$ for $n$ datapoints using the loss function above. Show all the steps of your work\n",
    "\n",
    "## 1.2 (10 pts)\n",
    "Based on the following training data \n",
    "$$\n",
    "\\text{income} = \\{ 20000, 35000, 40000 \\}\n",
    "$$\n",
    "\n",
    "what would be optimal prediction of an unseen income given the model and the loss function? Show your work."
   ]
  },
  {
   "cell_type": "markdown",
   "metadata": {},
   "source": [
    "1.1 \n",
    "𝑦ˆ𝑖 = b0\n",
    "#L(b0) = (b0-y1)^2 + (b0-y2)^2 + ...+ (b0-yi)^2 + b0^2\n",
    "dL/db0 = 2(b0-y1)+ 2(b0-y2) + ... + 2(b0-yi) + 2b0\n",
    "        = 2(n*b0 -∑yi)+ 2b0\n",
    "        = 2b0(n+1) - 2∑yi\n",
    "dL/db0 = 0 >> b0 = 2∑yi/2(n+1) = ∑yi/(n+1)"
   ]
  },
  {
   "cell_type": "markdown",
   "metadata": {},
   "source": [
    "1.2\n",
    "∑yi/(n+1) = (20000+35000+40000)/(3+1) = 95000/4 = 23750"
   ]
  },
  {
   "cell_type": "markdown",
   "metadata": {},
   "source": [
    "# Question 2: Gradient descent"
   ]
  },
  {
   "cell_type": "markdown",
   "metadata": {},
   "source": [
    "Sometimes, it is impossible to learn the parameters in one step, so we apply an algorithm called gradient descent. This is, for each parameter $b_j$, we update it based on the following equation\n",
    "\n",
    "$$ b_j^{t+1} = b_j^{t} - \\eta \\frac{dL}{db_j^{t}}$$\n",
    "\n",
    "Image that you are trying to predict the price of a stock in a week ($y$) based on the price today ($p$), the number of positive news about the stock ($n$), and the number of competitors ($c$) using a linear model\n",
    "$$\n",
    "y = b_0 + b_1 p + b_2 n + b_3 c\n",
    "$$\n",
    "\n",
    "Starting from the parameters $b_0=1, b_1=1.1, b_2=0.1,b_3=-0.5$, run one iteration of gradient descent for the datapoint $y = 100, p = 90, n = 1$, and $c=4$ with quadratic loss function. Use learning rate, $\\eta = 0.1$\n",
    "\n",
    "## 2.1 (10 pts)\n",
    "\n",
    "What is the derivative of the loss for each of the parameters?\n",
    "\n",
    "## 2.2 (10 pts)\n",
    "\n",
    "After gradient descent, what are the new values for $\\mathbf{b}$?"
   ]
  },
  {
   "cell_type": "markdown",
   "metadata": {},
   "source": [
    "2.1 \n",
    "L(b) = (y-b0-b1p-b2n-b3c)^2\n",
    "** y - b0 - b1p - b2n - b3c = 100 - 1.1*90 - 0.1*1 - (-0.5)*4 = 1- 0.1+2 = 2.9\n",
    "dL/db0 = 2(y-b0-b1p-b2n-b3c)*-1 = -2(2.9) = -5.8\n",
    "dL/db1 = 2(y-b0-b1p-b2n-b3c)*-p = 2(2.9)-90 = -522\n",
    "dL/db2 = 2(y-b0-b1p-b2n-b3c)*-n = 2(2.9)-0.1 = -.58\n",
    "dL/db3 = 2(y-b0-b1p-b2n-b3c)*-c = 2(2.9)-4 = -23.2\n"
   ]
  },
  {
   "cell_type": "markdown",
   "metadata": {},
   "source": [
    "2.2\n",
    "b0(t+1) = b0(t) - 0.1*dL/db0 = 1 - 0.1(-5.8) = 1+ 0.58 = 1.58\n",
    "b1(t+1) = b1(t) - 0.1*dL/db1 = 1.1 - 0.1(-522) = 1.1 + 52.2 = 53.3\n",
    "b2(t+1) = b2(t) - 0.1*dL/db2 = 0.1 - 0.1(-.58) =0.1 + .058 = 0.158\n",
    "b3(t+1) = b3(t) - 0.1*dL/db3 = -0.5 - 0.1(-23.2) = -0.5 + 2.32 = 1.82"
   ]
  },
  {
   "cell_type": "markdown",
   "metadata": {},
   "source": [
    "# Question 3: Python\n",
    "\n",
    "## Question 3.1 (10 pts)\n",
    "\n",
    "Reverse the words in a sentence. Implement a function `scramble_sentence` that takes a sentence as a string and returns a string where the words have been reversed. For example, `scramble_sentence(\"Hello World\")` should return `\"olleH dlroW\"`. Consider that strings are just like any other sequence such as lists and tuples and therefore can be accessed with the slice notation. Also you can use the method `slice` of string object to split a sentence into its individual words and `join` to put a list of strings inside another string. For example, `\" \".join([\"hello\", \"world\"])` will create `\"hello world\"`. You can use list comprehensions or for-loops to solve this problem."
   ]
  },
  {
   "cell_type": "code",
   "execution_count": 28,
   "metadata": {},
   "outputs": [],
   "source": [
    "# your code here (you have to fix this function)\n",
    "def scramble_sentence(s):\n",
    "    l = s.split()\n",
    "    new_string = []\n",
    "#     print(l)\n",
    "    for i in l:\n",
    "#         print(i[::-1])\n",
    "        new_string.append(i[::-1])\n",
    "    return ' '.join(new_string)"
   ]
  },
  {
   "cell_type": "code",
   "execution_count": 30,
   "metadata": {},
   "outputs": [
    {
     "name": "stdout",
     "output_type": "stream",
     "text": [
      "olleH dlroW\n",
      "ataD ecneicS\n"
     ]
    }
   ],
   "source": [
    "# examples:\n",
    "# scramble_sentence(\"Hello World\") should generate \"olleH dlroW\"\n",
    "# scramble_sentence(\"Data Science\") should return \"ataD ecneicS\"\n",
    "\n",
    "print(scramble_sentence('Hello World'))\n",
    "print(scramble_sentence('Data Science'))\n"
   ]
  },
  {
   "cell_type": "markdown",
   "metadata": {},
   "source": [
    "# Question 4: Probability\n",
    "\n",
    "We will generate the list of possible events for an experiment in which we toss 4 die. We will estimate the probability that at least 3 die turn a 4 in them. Assume that the random variable $M$ represents the concept \"at least 3 die turn a 4 in them\""
   ]
  },
  {
   "cell_type": "markdown",
   "metadata": {},
   "source": [
    "## Question 4.1 (10 pts)\n",
    "\n",
    "Create a list `X` where each element is an event represented as a list of the outcomes of the 4 die. i.e., `X = [[1, 1, 1, 1], [1, 1, 1, 2], [1, 1, 1, 3], ..., [6, 6, 6, 6]]`"
   ]
  },
  {
   "cell_type": "code",
   "execution_count": 12,
   "metadata": {},
   "outputs": [],
   "source": [
    "# your code here\n",
    "dice = []\n",
    "X = []\n",
    "for i in range(1,7):\n",
    "    for i2 in range (1,7):\n",
    "        for i3 in range(1,7):\n",
    "            for i4 in range(1,7):\n",
    "                dice.append(i4)\n",
    "                dice.append(i3)\n",
    "                dice.append(i2)\n",
    "                dice.append(i)\n",
    "                X.append(dice)\n",
    "                dice = []"
   ]
  },
  {
   "cell_type": "markdown",
   "metadata": {},
   "source": [
    "# Question 4.2 (5 pts)\n",
    "\n",
    "Create a variable `n_M` that goes through the list of events `X` and records the number of times the random variable $M$ is true."
   ]
  },
  {
   "cell_type": "code",
   "execution_count": 8,
   "metadata": {},
   "outputs": [
    {
     "name": "stdout",
     "output_type": "stream",
     "text": [
      "21\n"
     ]
    }
   ],
   "source": [
    "# your code\n",
    "# ttl_cnt = 0\n",
    "# for i in X:\n",
    "#     cnt = 0\n",
    "#     for k in range(4):\n",
    "#         if i[k] == 4:\n",
    "#             cnt += 1\n",
    "#     if cnt >= 3:\n",
    "#         print(i)\n",
    "#         ttl_cnt +=1\n",
    "#     else: cnt = 0\n",
    "    \n",
    "# print(ttl_cnt)  \n",
    "# n_M = ....\n",
    "# n = the least amount of dice to turn a specific number\n",
    "# M = specific number of each die to be (1-6)\n",
    "def n_M(n,M):\n",
    "    ttl_cnt = 0\n",
    "    for i in X:\n",
    "        cnt = 0\n",
    "        for k in range(4):\n",
    "            if i[k] == M:\n",
    "                cnt +=1\n",
    "        if cnt >= n:\n",
    "            ttl_cnt +=1\n",
    "        else: cnt = 0\n",
    "    return ttl_cnt\n",
    "\n",
    "# at least 3 die turn a 4 in them\n",
    "print(n_M(3,4))"
   ]
  },
  {
   "cell_type": "markdown",
   "metadata": {},
   "source": [
    "# Question 4.3 (5 pts)\n",
    "\n",
    "What is the probability $p(M)$ based on `n_M` and `X`? Store the answer in the variable `p_M`"
   ]
  },
  {
   "cell_type": "code",
   "execution_count": 9,
   "metadata": {},
   "outputs": [],
   "source": [
    "# your code\n",
    "p_M = n_M(3,4)/len(X)"
   ]
  },
  {
   "cell_type": "code",
   "execution_count": 10,
   "metadata": {},
   "outputs": [
    {
     "data": {
      "text/plain": [
       "0.016203703703703703"
      ]
     },
     "execution_count": 10,
     "metadata": {},
     "output_type": "execute_result"
    }
   ],
   "source": [
    "p_M"
   ]
  },
  {
   "cell_type": "code",
   "execution_count": null,
   "metadata": {},
   "outputs": [],
   "source": []
  }
 ],
 "metadata": {
  "kernelspec": {
   "display_name": "Python 3",
   "language": "python",
   "name": "python3"
  },
  "language_info": {
   "codemirror_mode": {
    "name": "ipython",
    "version": 3
   },
   "file_extension": ".py",
   "mimetype": "text/x-python",
   "name": "python",
   "nbconvert_exporter": "python",
   "pygments_lexer": "ipython3",
   "version": "3.6.7"
  }
 },
 "nbformat": 4,
 "nbformat_minor": 2
}
